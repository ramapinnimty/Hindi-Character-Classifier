{
 "cells": [
  {
   "cell_type": "markdown",
   "metadata": {},
   "source": [
    "This is a classic problem of *Classification* that is very similar to the **MNIST** digit recognition problem with the exception that this problem comprises of 5 classes whereas **MNIST** has 10 classes. As this is a image-based problem one good approach is to build a Convolutional Neural Network (CNN). (We can go for SVM with a softmax loss, but this is better)"
   ]
  },
  {
   "cell_type": "markdown",
   "metadata": {},
   "source": [
    "# 1. INTRODUCTION"
   ]
  },
  {
   "cell_type": "code",
   "execution_count": 1,
   "metadata": {},
   "outputs": [
    {
     "name": "stderr",
     "output_type": "stream",
     "text": [
      "Using TensorFlow backend.\n"
     ]
    }
   ],
   "source": [
    "#Importing all the necessary packages\n",
    "import numpy as np   # Python's library to deal with Scientific computation. It is famous for its efficiency and speed\n",
    "import pandas as pd   # Python's library to deal with data cleaning and handling\n",
    "import matplotlib.pyplot as plt   # Python's library for Visualization\n",
    "from sklearn.preprocessing import OneHotEncoder   # To convert the numeric class labels into one-hot vectors\n",
    "import cv2   # Advanced \"Image Processing\" library for Python\n",
    "import os   # For changing the current working directory and for file handling\n",
    "from sklearn.metrics import confusion_matrix, classification_report   # Metrics useful for evaluating our model\n",
    "from sklearn.utils import shuffle   # To shuffle the dataset randomly in-place to avoid any possible bias\n",
    "from keras.models import Sequential   # Choosing 'Sequential model' from the available two types of models\n",
    "from keras.layers import Conv2D, MaxPool2D, Dropout, Dense, Flatten   # Other important components for building the network\n",
    "###from keras.optimizers import RMSprop   # Discarded RMSprop as 'Adam' was performing better\n",
    "###from keras.callbacks import ReduceLROnPlateau   # I felt no need for reducing the learning rate constantly over the iterations as, the model converged pretty quickly and there were no saddle points\n",
    "import warnings   # To ignore package deprecation warnings, etc.;\n",
    "\n",
    "# To plot the graphs, figures in the notebook itself and not in separate windows\n",
    "%matplotlib inline\n",
    "warnings.filterwarnings('ignore')"
   ]
  },
  {
   "cell_type": "code",
   "execution_count": 2,
   "metadata": {},
   "outputs": [],
   "source": [
    "#Turn de-bugging mode 'ON' or 'OFF'\n",
    "DEBUG = True"
   ]
  },
  {
   "cell_type": "code",
   "execution_count": 3,
   "metadata": {},
   "outputs": [],
   "source": [
    "#Storing the paths of both the training and test sets in respective variables\n",
    "training_set_path = './/Train_val//'\n",
    "test_set_path = './/Test//'"
   ]
  },
  {
   "cell_type": "code",
   "execution_count": 4,
   "metadata": {},
   "outputs": [],
   "source": [
    "#Storing the list of all character classes\n",
    "character_classes = [folder_name.split('_')[2] for folder_name in sorted(os.listdir(training_set_path))]"
   ]
  },
  {
   "cell_type": "code",
   "execution_count": 5,
   "metadata": {
    "scrolled": true
   },
   "outputs": [
    {
     "name": "stdout",
     "output_type": "stream",
     "text": [
      "['ka', 'kha', 'ga', 'gha', 'kna']\n"
     ]
    }
   ],
   "source": [
    "if DEBUG:\n",
    "    print(character_classes)"
   ]
  },
  {
   "cell_type": "markdown",
   "metadata": {},
   "source": [
    "# 2. PRE-PROCESSING"
   ]
  },
  {
   "cell_type": "markdown",
   "metadata": {},
   "source": [
    "## 2.1 Training Data Creation"
   ]
  },
  {
   "cell_type": "code",
   "execution_count": 6,
   "metadata": {},
   "outputs": [],
   "source": [
    "#Changing the path the working directory to the location where the training data is present\n",
    "os.chdir(training_set_path)"
   ]
  },
  {
   "cell_type": "code",
   "execution_count": 7,
   "metadata": {},
   "outputs": [],
   "source": [
    "#Iterating through all the character folders and buliding a training set and its corresponding class labels\n",
    "images = []\n",
    "classes = []\n",
    "for class_number, character_folder in enumerate(sorted(os.listdir())):\n",
    "    os.chdir('.//' + character_folder + '//')\n",
    "    for image in sorted(os.listdir()):\n",
    "        img = cv2.imread(image, cv2.IMREAD_GRAYSCALE)   # Converting the color image (3 channels) into grayscale image (1 channel)\n",
    "        height, width = img.shape\n",
    "        reshaped_img_vector = img.reshape(height * width)   # Flatten the image into a long single vector\n",
    "        images.append(reshaped_img_vector)\n",
    "        classes.append(class_number)\n",
    "    os.chdir('.//..//')"
   ]
  },
  {
   "cell_type": "code",
   "execution_count": 8,
   "metadata": {},
   "outputs": [],
   "source": [
    "#Returning to the Home directory where the Jupyter notebook is present\n",
    "os.chdir('.//..//')"
   ]
  },
  {
   "cell_type": "markdown",
   "metadata": {},
   "source": [
    "## 2.2 Test Data Creation"
   ]
  },
  {
   "cell_type": "code",
   "execution_count": 9,
   "metadata": {},
   "outputs": [],
   "source": [
    "#Changing the path the working directory to the location where the test data is present\n",
    "os.chdir(test_set_path)"
   ]
  },
  {
   "cell_type": "code",
   "execution_count": 10,
   "metadata": {},
   "outputs": [],
   "source": [
    "#Iterating through all the character folders and buliding a test set and its corresponding class labels\n",
    "images = []\n",
    "classes = []\n",
    "for class_number, character_folder in enumerate(sorted(os.listdir())):\n",
    "    os.chdir('.//' + character_folder + '//')\n",
    "    for image in sorted(os.listdir()):\n",
    "        img = cv2.imread(image, cv2.IMREAD_GRAYSCALE)   # Converting the color image (3 channels) into grayscale image (1 channel)\n",
    "        height, width = img.shape\n",
    "        reshaped_img_vector = img.reshape(height * width)   # Flatten the image into a long single vector\n",
    "        images.append(reshaped_img_vector)\n",
    "        classes.append(class_number)\n",
    "    os.chdir('.//..//')"
   ]
  },
  {
   "cell_type": "code",
   "execution_count": 11,
   "metadata": {},
   "outputs": [],
   "source": [
    "#Returning to the Home directory where the Jupyter notebook is present\n",
    "os.chdir('.//..//')"
   ]
  },
  {
   "cell_type": "markdown",
   "metadata": {},
   "source": [
    "## 2.4 Normalization"
   ]
  },
  {
   "cell_type": "markdown",
   "metadata": {},
   "source": [
    "We perform a grayscale normalization to reduce the effect of illumination's differences. \n",
    "\n",
    "Moreover, the CNN converges faster on [0..1] data than on [0..255]. (The minimum intensity value is '0' and maximum intensity value is '256')"
   ]
  },
  {
   "cell_type": "markdown",
   "metadata": {},
   "source": [
    "### 2.4 (a)  Normalizing training data"
   ]
  },
  {
   "cell_type": "code",
   "execution_count": 12,
   "metadata": {},
   "outputs": [],
   "source": [
    "#Normalizing the image intensity values to be in the range of 0 - 1 (Because, there is no need for 3 channels as the images are mostly in black & white and it also helps for easy computation when passed through neural network)\n",
    "X_train = np.array(images) / 255.0\n",
    "X_train = X_train.reshape(-1, 32, 32, 1)   # Reshape the 1024 x 1 vector back to 32 x 32 image so as to pass to CNN. '-1' indicates that it is to be replaced with the \"total number of samples\""
   ]
  },
  {
   "cell_type": "code",
   "execution_count": 13,
   "metadata": {},
   "outputs": [],
   "source": [
    "y_train = np.array(classes)\n",
    "y_train = y_train.reshape(y_train.shape[0], 1)"
   ]
  },
  {
   "cell_type": "code",
   "execution_count": 14,
   "metadata": {},
   "outputs": [],
   "source": [
    "#Shuffling the training set in order to avoid bias during training\n",
    "X_train, y_train = shuffle(X_train, y_train, random_state=0)"
   ]
  },
  {
   "cell_type": "markdown",
   "metadata": {},
   "source": [
    "### 2.4 (b)  Normalizing test data"
   ]
  },
  {
   "cell_type": "code",
   "execution_count": 15,
   "metadata": {},
   "outputs": [],
   "source": [
    "#Normalizing the image intensity values to be in the range of 0 - 1 (Because, there is no need for 3 channels as the images are mostly in black & white and it also helps for easy computation when passed through neural network)\n",
    "X_test = np.array(images) / 255.0\n",
    "X_test = X_test.reshape(-1, 32, 32, 1)   # Reshape the 1024 x 1 vector back to 32 x 32 image so as to pass to CNN. '-1' indicates that it is to be replaced with the \"total number of samples\""
   ]
  },
  {
   "cell_type": "code",
   "execution_count": 16,
   "metadata": {},
   "outputs": [],
   "source": [
    "y_test = np.array(classes)\n",
    "y_test = y_test.reshape(y_test.shape[0], 1)"
   ]
  },
  {
   "cell_type": "code",
   "execution_count": 17,
   "metadata": {},
   "outputs": [],
   "source": [
    "#Shuffling the test set in order to avoid bias during class prediction\n",
    "X_test, y_test = shuffle(X_test, y_test, random_state=0)"
   ]
  },
  {
   "cell_type": "markdown",
   "metadata": {},
   "source": [
    "## 2.4 Check for NULL and MISSING values"
   ]
  },
  {
   "cell_type": "markdown",
   "metadata": {},
   "source": [
    "Null and missing values occur if any of the images is/are corrupted. So, check for any null and missing values as this may affect the model's performance."
   ]
  },
  {
   "cell_type": "code",
   "execution_count": 18,
   "metadata": {},
   "outputs": [
    {
     "data": {
      "text/plain": [
       "count        32\n",
       "unique        1\n",
       "top       False\n",
       "freq         32\n",
       "dtype: object"
      ]
     },
     "execution_count": 18,
     "metadata": {},
     "output_type": "execute_result"
    }
   ],
   "source": [
    "#Check for null or missing values in the training set\n",
    "pd.DataFrame.from_records(X_train).isnull().any().describe()"
   ]
  },
  {
   "cell_type": "code",
   "execution_count": 19,
   "metadata": {},
   "outputs": [
    {
     "data": {
      "text/plain": [
       "count        32\n",
       "unique        1\n",
       "top       False\n",
       "freq         32\n",
       "dtype: object"
      ]
     },
     "execution_count": 19,
     "metadata": {},
     "output_type": "execute_result"
    }
   ],
   "source": [
    "#Check for null or missing values in the test set\n",
    "pd.DataFrame.from_records(X_test).isnull().any().describe()"
   ]
  },
  {
   "cell_type": "markdown",
   "metadata": {},
   "source": [
    "## 2.5 One-Hot encoding"
   ]
  },
  {
   "cell_type": "markdown",
   "metadata": {},
   "source": [
    "Problem with label encoding (or numeric encoding) is that, it **assumes** *higher* the categorical value, *better* the category."
   ]
  },
  {
   "cell_type": "code",
   "execution_count": 20,
   "metadata": {},
   "outputs": [],
   "source": [
    "#One-hot encoding training set labels\n",
    "onehot_encoder = OneHotEncoder(sparse=False)   # Setting 'sparse' argument to \"False\" to avoiding problems when using Keras\n",
    "y_train_encoded = onehot_encoder.fit_transform(y_train)\n",
    "\n",
    "#One-hot encoding test set labels   (NOT REQUIRED as, we are predicting these values based on the probabilities that are obtained from the 'Softmax' funtion)\n",
    "###onehot_encoder = OneHotEncoder(sparse=False)   # Setting 'sparse' argument to \"False\" to avoiding problems when using Keras\n",
    "###y_test_encoded = onehot_encoder.fit_transform(y_test)"
   ]
  },
  {
   "cell_type": "markdown",
   "metadata": {},
   "source": [
    "## 2.6 Validation set creation"
   ]
  },
  {
   "cell_type": "markdown",
   "metadata": {},
   "source": [
    "Validation set is used because we can perform hyperparameter tuning and also choose the right model for the problem under consideration. This also ensures that we do not perform parameter tuning during the time of testing and thus the testing will be un-biased."
   ]
  },
  {
   "cell_type": "markdown",
   "metadata": {},
   "source": [
    "* Popular **train-validation-test** splits are 70-20-10, 60-20-20, 95-2.5-2.5, 99-0.5-0.5, etc.;"
   ]
  },
  {
   "cell_type": "code",
   "execution_count": 21,
   "metadata": {},
   "outputs": [],
   "source": [
    "#Randomly choosing 33% of the training samples to be the cross-validation (or) hold-out set\n",
    "num_values = int(0.33 * X_train.shape[0])\n",
    "random_samples = np.random.permutation(X_train.shape[0])[:num_values]\n",
    "\n",
    "X_val = X_train[random_samples]\n",
    "y_val = y_train_encoded[random_samples]\n",
    "\n",
    "#Deleting the previously chosen random samples from our training set along the row (axis=0)\n",
    "X_train = np.delete(X_train, random_samples, axis=0)\n",
    "y_train_encoded = np.delete(y_train_encoded, random_samples, axis=0)"
   ]
  },
  {
   "cell_type": "code",
   "execution_count": 22,
   "metadata": {},
   "outputs": [
    {
     "data": {
      "text/plain": [
       "((1005, 32, 32, 1), (495, 32, 32, 1))"
      ]
     },
     "execution_count": 22,
     "metadata": {},
     "output_type": "execute_result"
    }
   ],
   "source": [
    "X_train.shape, X_val.shape"
   ]
  },
  {
   "cell_type": "markdown",
   "metadata": {},
   "source": [
    "# 3. UNDERSTANDING THE DATASET"
   ]
  },
  {
   "cell_type": "code",
   "execution_count": 23,
   "metadata": {},
   "outputs": [
    {
     "data": {
      "image/png": "[encoded data removed]",
      "text/plain": [
       "<Figure size 432x288 with 2 Axes>"
      ]
     },
     "metadata": {
      "needs_background": "light"
     },
     "output_type": "display_data"
    }
   ],
   "source": [
    "if DEBUG:\n",
    "    _, ax = plt.subplots(1, 2)\n",
    "    ax[0].axis('off')\n",
    "    #A random training data sample\n",
    "    ax[0].imshow(X_train[np.random.randint(X_train.shape[0])].reshape(32, 32))\n",
    "    ax[0].set_title('A random training sample')\n",
    "\n",
    "    ax[1].axis('off')\n",
    "    #A random test data sample\n",
    "    ax[1].imshow(X_test[np.random.randint(X_test.shape[0])].reshape(32, 32))\n",
    "    ax[1].set_title('A random test sample')"
   ]
  },
  {
   "cell_type": "code",
   "execution_count": 24,
   "metadata": {},
   "outputs": [
    {
     "name": "stdout",
     "output_type": "stream",
     "text": [
      "The training set is of shape :  (1005, 32, 32, 1)\n",
      "The training labels vector is of shape :  (1005, 5)\n",
      "\n",
      "The validation set is of shape :  (495, 32, 32, 1)\n",
      "The validation labels vector is of shape :  (495, 5)\n",
      "\n",
      "The test set is of shape :  (1500, 32, 32, 1)\n",
      "The test labels vector is of shape :  (1500, 1)\n",
      "\n",
      "\n",
      "There are 1005 training, 495 validation and 1500 test samples respectively.\n",
      "The total number of classes are :-  5\n"
     ]
    }
   ],
   "source": [
    "if DEBUG:\n",
    "    #Getting to know about the data more...\n",
    "    num_of_train_samples = X_train.shape[0]\n",
    "    num_of_val_samples = X_val.shape[0]\n",
    "    num_of_test_samples = X_test.shape[0]\n",
    "    num_classes = len(np.unique(y_train))\n",
    "\n",
    "    print(\"The training set is of shape : \", X_train.shape)\n",
    "    print(\"The training labels vector is of shape : \", y_train_encoded.shape)\n",
    "    print()\n",
    "    print(\"The validation set is of shape : \", X_val.shape)\n",
    "    print(\"The validation labels vector is of shape : \", y_val.shape)\n",
    "    print()\n",
    "    print(\"The test set is of shape : \", X_test.shape)\n",
    "    print(\"The test labels vector is of shape : \", y_test.shape)\n",
    "    print(\"\\n\")\n",
    "    print(\"There are \" + str(num_of_train_samples) + \" training, \" + str(num_of_val_samples) + \" validation and \" + str(num_of_test_samples) + \" test samples respectively.\")\n",
    "    print(\"The total number of classes are :- \", num_classes)"
   ]
  },
  {
   "cell_type": "markdown",
   "metadata": {},
   "source": [
    "# 4. CNN MODEL"
   ]
  },
  {
   "cell_type": "markdown",
   "metadata": {},
   "source": [
    "CNN architechture is **Input -> [ [ Conv2D -> ReLU] * 2 -> MaxPool2D -> Dropout ] * 2 -> Flatten -> Dense -> Dropout -> Output**"
   ]
  },
  {
   "cell_type": "code",
   "execution_count": 25,
   "metadata": {},
   "outputs": [],
   "source": [
    "#Creating the model architecture\n",
    "model = Sequential()\n",
    "\n",
    "model.add(Conv2D(filters = 32, kernel_size = (5, 5), padding = 'Same', activation ='relu', input_shape = (32, 32, 1)))\n",
    "model.add(Conv2D(filters = 32, kernel_size = (5, 5), padding = 'Same', activation ='relu'))\n",
    "model.add(MaxPool2D(pool_size=(2, 2)))\n",
    "model.add(Dropout(0.25))\n",
    "\n",
    "model.add(Conv2D(filters = 64, kernel_size = (3, 3),padding = 'Same', activation ='relu'))\n",
    "model.add(Conv2D(filters = 64, kernel_size = (3, 3),padding = 'Same', activation ='relu'))\n",
    "model.add(MaxPool2D(pool_size=(2, 2), strides=(2, 2)))\n",
    "model.add(Dropout(0.25))\n",
    "\n",
    "\n",
    "model.add(Flatten())\n",
    "\n",
    "model.add(Dense(256, activation = \"relu\"))\n",
    "model.add(Dropout(0.5))\n",
    "model.add(Dense(num_classes, activation = \"softmax\"))"
   ]
  },
  {
   "cell_type": "code",
   "execution_count": 26,
   "metadata": {},
   "outputs": [],
   "source": [
    "#Define the optimizer\n",
    "###optimizer = RMSprop(lr=0.001, rho=0.9, epsilon=1e-08, decay=0.0)"
   ]
  },
  {
   "cell_type": "code",
   "execution_count": 27,
   "metadata": {},
   "outputs": [],
   "source": [
    "#Compile the model\n",
    "model.compile(optimizer='adam', loss='categorical_crossentropy', metrics=['accuracy'])"
   ]
  },
  {
   "cell_type": "code",
   "execution_count": 28,
   "metadata": {},
   "outputs": [],
   "source": [
    "#Set a learning rate annealer\n",
    "###learning_rate_reduction = ReduceLROnPlateau(monitor='val_acc', patience=3, verbose=1, factor=0.5, min_lr=0.00001)"
   ]
  },
  {
   "cell_type": "code",
   "execution_count": 29,
   "metadata": {},
   "outputs": [],
   "source": [
    "### epochs = 30\n",
    "### batch_size = 128\n",
    "epochs = 15\n",
    "batch_size = 64"
   ]
  },
  {
   "cell_type": "code",
   "execution_count": 30,
   "metadata": {},
   "outputs": [
    {
     "name": "stdout",
     "output_type": "stream",
     "text": [
      "Train on 1005 samples, validate on 495 samples\n",
      "Epoch 1/15\n",
      " - 6s - loss: 1.3995 - acc: 0.4398 - val_loss: 0.6863 - val_acc: 0.7455\n",
      "Epoch 2/15\n",
      " - 6s - loss: 0.6861 - acc: 0.7682 - val_loss: 0.3043 - val_acc: 0.8788\n",
      "Epoch 3/15\n",
      " - 6s - loss: 0.3419 - acc: 0.8836 - val_loss: 0.1584 - val_acc: 0.9495\n",
      "Epoch 4/15\n",
      " - 6s - loss: 0.1604 - acc: 0.9453 - val_loss: 0.0939 - val_acc: 0.9636\n",
      "Epoch 5/15\n",
      " - 6s - loss: 0.1359 - acc: 0.9483 - val_loss: 0.0686 - val_acc: 0.9636\n",
      "Epoch 6/15\n",
      " - 6s - loss: 0.0807 - acc: 0.9771 - val_loss: 0.0377 - val_acc: 0.9879\n",
      "Epoch 7/15\n",
      " - 6s - loss: 0.0486 - acc: 0.9831 - val_loss: 0.0259 - val_acc: 0.9879\n",
      "Epoch 8/15\n",
      " - 6s - loss: 0.0483 - acc: 0.9781 - val_loss: 0.0333 - val_acc: 0.9899\n",
      "Epoch 9/15\n",
      " - 6s - loss: 0.0395 - acc: 0.9861 - val_loss: 0.0423 - val_acc: 0.9899\n",
      "Epoch 10/15\n",
      " - 6s - loss: 0.0390 - acc: 0.9891 - val_loss: 0.0260 - val_acc: 0.9939\n",
      "Epoch 11/15\n",
      " - 6s - loss: 0.0270 - acc: 0.9920 - val_loss: 0.0266 - val_acc: 0.9919\n",
      "Epoch 12/15\n",
      " - 6s - loss: 0.0220 - acc: 0.9920 - val_loss: 0.0203 - val_acc: 0.9919\n",
      "Epoch 13/15\n",
      " - 6s - loss: 0.0162 - acc: 0.9960 - val_loss: 0.0208 - val_acc: 0.9980\n",
      "Epoch 14/15\n",
      " - 6s - loss: 0.0162 - acc: 0.9940 - val_loss: 0.0387 - val_acc: 0.9879\n",
      "Epoch 15/15\n",
      " - 6s - loss: 0.0203 - acc: 0.9920 - val_loss: 0.0258 - val_acc: 0.9899\n"
     ]
    }
   ],
   "source": [
    "history = model.fit(X_train, y_train_encoded, batch_size = batch_size, epochs = epochs, validation_data = (X_val, y_val), verbose = 2)"
   ]
  },
  {
   "cell_type": "markdown",
   "metadata": {},
   "source": [
    "# 5. EVALUATE THE MODEL"
   ]
  },
  {
   "cell_type": "markdown",
   "metadata": {},
   "source": [
    "We've now trained our model (above) and let's proceed onto validating it and tuning the network"
   ]
  },
  {
   "cell_type": "code",
   "execution_count": 31,
   "metadata": {},
   "outputs": [
    {
     "data": {
      "image/png": "[encoded data removed]",
      "text/plain": [
       "<Figure size 432x288 with 2 Axes>"
      ]
     },
     "metadata": {
      "needs_background": "light"
     },
     "output_type": "display_data"
    }
   ],
   "source": [
    "#Plot the loss and accuracy curves for training and validation sets\n",
    "if DEBUG:\n",
    "    ###   LOSS CURVE   ###\n",
    "    _, ax = plt.subplots(1, 2)\n",
    "    ax[0].plot(history.history['loss'], color='b', label=\"Training loss\")\n",
    "    ax[0].plot(history.history['val_loss'], color='r', label=\"validation loss\")\n",
    "    legend = ax[0].legend(loc='best', shadow=True)\n",
    "\n",
    "    ###   ACCURACY CURVE   ###\n",
    "    ax[1].plot(history.history['acc'], color='b', label=\"Training accuracy\")\n",
    "    ax[1].plot(history.history['val_acc'], color='r', label=\"Validation accuracy\")\n",
    "    legend = ax[1].legend(loc='best', shadow=True)"
   ]
  },
  {
   "cell_type": "markdown",
   "metadata": {},
   "source": [
    "# 6. PREDICTING THE CLASS LABELS OF THE TEST DATA"
   ]
  },
  {
   "cell_type": "markdown",
   "metadata": {},
   "source": [
    "It is time to test the model we built above to **new images** (that it has never seen before !!!)"
   ]
  },
  {
   "cell_type": "code",
   "execution_count": 32,
   "metadata": {},
   "outputs": [],
   "source": [
    "#Collecting the class probabilities that are obtained from the 'Softmax' function\n",
    "predictions = model.predict_on_batch(X_test)"
   ]
  },
  {
   "cell_type": "code",
   "execution_count": 33,
   "metadata": {},
   "outputs": [],
   "source": [
    "#Considering only the class with maximum 'class probability' as this is our \"Predicted Class\"\n",
    "predicted_classes = predictions.argmax(axis=1)   # Returns the index with the maximum value along each row"
   ]
  },
  {
   "cell_type": "code",
   "execution_count": 34,
   "metadata": {},
   "outputs": [],
   "source": [
    "if DEBUG:\n",
    "    predicted_classes   # 0 - 'ka', 1 - 'kha', 2 - 'ga', 3 - 'gha', 4 - 'kna'"
   ]
  },
  {
   "cell_type": "markdown",
   "metadata": {},
   "source": [
    "# 7. EVALUATION METRICS"
   ]
  },
  {
   "cell_type": "markdown",
   "metadata": {},
   "source": [
    "### 7.1 Confusion Matrix"
   ]
  },
  {
   "cell_type": "markdown",
   "metadata": {},
   "source": [
    "Check the distribution of currently and incorrectly classified labels across all classes"
   ]
  },
  {
   "cell_type": "code",
   "execution_count": 35,
   "metadata": {},
   "outputs": [
    {
     "name": "stdout",
     "output_type": "stream",
     "text": [
      "[[300   0   0   0   0]\n",
      " [  0 299   1   0   0]\n",
      " [  0   0 300   0   0]\n",
      " [  0   0   2 298   0]\n",
      " [  0   1   0   1 298]]\n"
     ]
    }
   ],
   "source": [
    "matrix = confusion_matrix(y_test, predicted_classes)\n",
    "print(matrix)"
   ]
  },
  {
   "cell_type": "markdown",
   "metadata": {},
   "source": [
    "### 7.2 Classification Report"
   ]
  },
  {
   "cell_type": "markdown",
   "metadata": {},
   "source": [
    "Generate a report on Precision-Recall, F1-score, etc.; for our data"
   ]
  },
  {
   "cell_type": "code",
   "execution_count": 36,
   "metadata": {},
   "outputs": [
    {
     "name": "stdout",
     "output_type": "stream",
     "text": [
      "              precision    recall  f1-score   support\n",
      "\n",
      "           0       1.00      1.00      1.00       300\n",
      "           1       1.00      1.00      1.00       300\n",
      "           2       0.99      1.00      1.00       300\n",
      "           3       1.00      0.99      0.99       300\n",
      "           4       1.00      0.99      1.00       300\n",
      "\n",
      "   micro avg       1.00      1.00      1.00      1500\n",
      "   macro avg       1.00      1.00      1.00      1500\n",
      "weighted avg       1.00      1.00      1.00      1500\n",
      "\n"
     ]
    }
   ],
   "source": [
    "report = classification_report(y_test, predicted_classes)\n",
    "print(report)"
   ]
  }
 ],
 "metadata": {
  "kernelspec": {
   "display_name": "Python 3",
   "language": "python",
   "name": "python3"
  },
  "language_info": {
   "codemirror_mode": {
    "name": "ipython",
    "version": 3
   },
   "file_extension": ".py",
   "mimetype": "text/x-python",
   "name": "python",
   "nbconvert_exporter": "python",
   "pygments_lexer": "ipython3",
   "version": "3.6.6"
  }
 },
 "nbformat": 4,
 "nbformat_minor": 2
}
